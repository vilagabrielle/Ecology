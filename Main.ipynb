{
 "cells": [
  {
   "cell_type": "code",
   "execution_count": 154,
   "metadata": {},
   "outputs": [],
   "source": [
    "import pandas as pd"
   ]
  },
  {
   "cell_type": "code",
   "execution_count": 155,
   "metadata": {},
   "outputs": [],
   "source": [
    "cat = ['maison', 'alimentation', 'bien-être', 'loisir', 'société', 'éducation', \"technologie\", 'travail', 'shopping', 'Transport']\n",
    "category= {}"
   ]
  },
  {
   "cell_type": "code",
   "execution_count": 156,
   "metadata": {},
   "outputs": [],
   "source": [
    "# maison"
   ]
  },
  {
   "cell_type": "code",
   "execution_count": 157,
   "metadata": {},
   "outputs": [],
   "source": [
    "category['maison'] = [\"je trie mes déchets\", 'je prends des douches courtes', 'j eteinds mes apareils']\n"
   ]
  },
  {
   "cell_type": "code",
   "execution_count": 158,
   "metadata": {},
   "outputs": [],
   "source": [
    "#alimentation"
   ]
  },
  {
   "cell_type": "code",
   "execution_count": 159,
   "metadata": {},
   "outputs": [],
   "source": [
    "category['alimentation'] = ['je favorise les court circuits', 'je ne me fait pas livrer à domicile', 'mon niveau de vegetarisme']"
   ]
  },
  {
   "cell_type": "code",
   "execution_count": 160,
   "metadata": {},
   "outputs": [],
   "source": [
    "#bien etre"
   ]
  },
  {
   "cell_type": "code",
   "execution_count": 161,
   "metadata": {},
   "outputs": [],
   "source": [
    "category['bien-être'] = ['j arrete les savons, champoings et lessives industriels', 'jarrette les cotons, éponges, essuie non réutilisables', 'je passe à coupe/ culotte menstruelle']\n"
   ]
  },
  {
   "cell_type": "code",
   "execution_count": 162,
   "metadata": {},
   "outputs": [],
   "source": [
    "#loisir"
   ]
  },
  {
   "cell_type": "code",
   "execution_count": 163,
   "metadata": {},
   "outputs": [],
   "source": [
    "category['loisir'] = ['je fais des fetes zero dechets', 'j évite les activités liée à l’exploitation du Vivant (monter les elephants, ,nager avec les requins)', 'je favorise les commerces de proximités autant que se faire se peut']"
   ]
  },
  {
   "cell_type": "code",
   "execution_count": 164,
   "metadata": {},
   "outputs": [],
   "source": [
    "#société"
   ]
  },
  {
   "cell_type": "code",
   "execution_count": 165,
   "metadata": {},
   "outputs": [],
   "source": [
    "category['société'] = ['je donne mon sang', 'je boycott les entreprises qui font de levasion fiscale', 'Je participe à nettoyer les espaces sauvages']"
   ]
  },
  {
   "cell_type": "code",
   "execution_count": 166,
   "metadata": {},
   "outputs": [],
   "source": [
    "#éducation"
   ]
  },
  {
   "cell_type": "code",
   "execution_count": 167,
   "metadata": {},
   "outputs": [],
   "source": [
    "category['éducation'] =['Je décrypte la situation financière actuelle', 'Je reprends le contrôle de ma manière de m’informer', 'je connais la valeur de leau']"
   ]
  },
  {
   "cell_type": "code",
   "execution_count": 168,
   "metadata": {},
   "outputs": [],
   "source": [
    "#technologie"
   ]
  },
  {
   "cell_type": "code",
   "execution_count": 169,
   "metadata": {},
   "outputs": [],
   "source": [
    "category['technologie'] = ['j archive mes mails et favorise les sms aux messages internet', 'je repare mes objets cassés', 'Jutilise des logiciels libres']"
   ]
  },
  {
   "cell_type": "code",
   "execution_count": 170,
   "metadata": {},
   "outputs": [],
   "source": [
    "#travail"
   ]
  },
  {
   "cell_type": "code",
   "execution_count": 171,
   "metadata": {},
   "outputs": [],
   "source": [
    "category['travail'] = ['Je lutte contre les gobelets en plastiques', 'Je travaille pour une entreprise qui correspond à mes valeurs','Je fais du télétravail plus régulièrement']"
   ]
  },
  {
   "cell_type": "code",
   "execution_count": 172,
   "metadata": {},
   "outputs": [],
   "source": [
    "#transport"
   ]
  },
  {
   "cell_type": "code",
   "execution_count": 173,
   "metadata": {},
   "outputs": [],
   "source": [
    "category['transport'] = ['je favorise d autre alternative à lavion', 'je vais du convoiturages ou transports en communs au lieu de prendre ma voiture', 'J’adopte l’éco-conduite']"
   ]
  },
  {
   "cell_type": "code",
   "execution_count": 174,
   "metadata": {},
   "outputs": [
    {
     "data": {
      "text/plain": [
       "{'maison': ['je trie mes déchets',\n",
       "  'je prends des douches courtes',\n",
       "  'j eteinds mes apareils'],\n",
       " 'alimentation': ['je favorise les court circuits',\n",
       "  'je ne me fait pas livrer à domicile',\n",
       "  'mon niveau de vegetarisme'],\n",
       " 'bien-être': ['j arrete les savons, champoings et lessives industriels',\n",
       "  'jarrette les cotons, éponges, essuie non réutilisables',\n",
       "  'je passe à coupe/ culotte menstruelle'],\n",
       " 'loisir': ['je fais des fetes zero dechets',\n",
       "  'j évite les activités liée à l’exploitation du Vivant (monter les elephants, ,nager avec les requins)',\n",
       "  'je favorise les commerces de proximités autant que se faire se peut'],\n",
       " 'société': ['je donne mon sang',\n",
       "  'je boycott les entreprises qui font de levasion fiscale',\n",
       "  'Je participe à nettoyer les espaces sauvages'],\n",
       " 'éducation': ['Je décrypte la situation financière actuelle',\n",
       "  'Je reprends le contrôle de ma manière de m’informer',\n",
       "  'je connais la valeur de leau'],\n",
       " 'technologie': ['j archive mes mails et favorise les sms aux messages internet',\n",
       "  'je repare mes objets cassés',\n",
       "  'Jutilise des logiciels libres'],\n",
       " 'travail': ['Je lutte contre les gobelets en plastiques',\n",
       "  'Je travaille pour une entreprise qui correspond à mes valeurs',\n",
       "  'Je fais du télétravail plus régulièrement'],\n",
       " 'transport': ['je favorise d autre alternative à lavion',\n",
       "  'je vais du convoiturages ou transports en communs au lieu de prendre ma voiture',\n",
       "  'J’adopte l’éco-conduite']}"
      ]
     },
     "execution_count": 174,
     "metadata": {},
     "output_type": "execute_result"
    }
   ],
   "source": [
    "category"
   ]
  },
  {
   "cell_type": "code",
   "execution_count": 175,
   "metadata": {},
   "outputs": [],
   "source": [
    "scale_up = {'pas du tout':0, 'un peu':1, 'toujours':2}\n",
    "scale_down = {'pas du tout':3, 'un peu':2, 'toujours':0}"
   ]
  },
  {
   "cell_type": "code",
   "execution_count": 176,
   "metadata": {},
   "outputs": [
    {
     "data": {
      "text/plain": [
       "{'questions_maison': {},\n",
       " 'questions_alimentation': {},\n",
       " 'questions_bien-être': {},\n",
       " 'questions_loisir': {},\n",
       " 'questions_société': {},\n",
       " 'questions_éducation': {},\n",
       " 'questions_technologie': {},\n",
       " 'questions_travail': {},\n",
       " 'questions_transport': {}}"
      ]
     },
     "execution_count": 176,
     "metadata": {},
     "output_type": "execute_result"
    }
   ],
   "source": [
    "questions = {}\n",
    "for cat in category.keys():\n",
    "    questions_cat = 'questions_'+str(cat)\n",
    "    questions[questions_cat] = dict()\n",
    "questions"
   ]
  },
  {
   "cell_type": "code",
   "execution_count": 177,
   "metadata": {},
   "outputs": [],
   "source": [
    "for q in questions.keys():\n",
    "    for i in range(3):\n",
    "        name = str(category[q[10:]][i])\n",
    "        questions[q][name] = scale_up"
   ]
  },
  {
   "cell_type": "code",
   "execution_count": 178,
   "metadata": {},
   "outputs": [
    {
     "data": {
      "text/plain": [
       "{'questions_maison': {'je trie mes déchets': {'pas du tout': 0,\n",
       "   'un peu': 1,\n",
       "   'toujours': 2},\n",
       "  'je prends des douches courtes': {'pas du tout': 0,\n",
       "   'un peu': 1,\n",
       "   'toujours': 2},\n",
       "  'j eteinds mes apareils': {'pas du tout': 0, 'un peu': 1, 'toujours': 2}},\n",
       " 'questions_alimentation': {'je favorise les court circuits': {'pas du tout': 0,\n",
       "   'un peu': 1,\n",
       "   'toujours': 2},\n",
       "  'je ne me fait pas livrer à domicile': {'pas du tout': 0,\n",
       "   'un peu': 1,\n",
       "   'toujours': 2},\n",
       "  'mon niveau de vegetarisme': {'pas du tout': 0, 'un peu': 1, 'toujours': 2}},\n",
       " 'questions_bien-être': {'j arrete les savons, champoings et lessives industriels': {'pas du tout': 0,\n",
       "   'un peu': 1,\n",
       "   'toujours': 2},\n",
       "  'jarrette les cotons, éponges, essuie non réutilisables': {'pas du tout': 0,\n",
       "   'un peu': 1,\n",
       "   'toujours': 2},\n",
       "  'je passe à coupe/ culotte menstruelle': {'pas du tout': 0,\n",
       "   'un peu': 1,\n",
       "   'toujours': 2}},\n",
       " 'questions_loisir': {'je fais des fetes zero dechets': {'pas du tout': 0,\n",
       "   'un peu': 1,\n",
       "   'toujours': 2},\n",
       "  'j évite les activités liée à l’exploitation du Vivant (monter les elephants, ,nager avec les requins)': {'pas du tout': 0,\n",
       "   'un peu': 1,\n",
       "   'toujours': 2},\n",
       "  'je favorise les commerces de proximités autant que se faire se peut': {'pas du tout': 0,\n",
       "   'un peu': 1,\n",
       "   'toujours': 2}},\n",
       " 'questions_société': {'je donne mon sang': {'pas du tout': 0,\n",
       "   'un peu': 1,\n",
       "   'toujours': 2},\n",
       "  'je boycott les entreprises qui font de levasion fiscale': {'pas du tout': 0,\n",
       "   'un peu': 1,\n",
       "   'toujours': 2},\n",
       "  'Je participe à nettoyer les espaces sauvages': {'pas du tout': 0,\n",
       "   'un peu': 1,\n",
       "   'toujours': 2}},\n",
       " 'questions_éducation': {'Je décrypte la situation financière actuelle': {'pas du tout': 0,\n",
       "   'un peu': 1,\n",
       "   'toujours': 2},\n",
       "  'Je reprends le contrôle de ma manière de m’informer': {'pas du tout': 0,\n",
       "   'un peu': 1,\n",
       "   'toujours': 2},\n",
       "  'je connais la valeur de leau': {'pas du tout': 0,\n",
       "   'un peu': 1,\n",
       "   'toujours': 2}},\n",
       " 'questions_technologie': {'j archive mes mails et favorise les sms aux messages internet': {'pas du tout': 0,\n",
       "   'un peu': 1,\n",
       "   'toujours': 2},\n",
       "  'je repare mes objets cassés': {'pas du tout': 0,\n",
       "   'un peu': 1,\n",
       "   'toujours': 2},\n",
       "  'Jutilise des logiciels libres': {'pas du tout': 0,\n",
       "   'un peu': 1,\n",
       "   'toujours': 2}},\n",
       " 'questions_travail': {'Je lutte contre les gobelets en plastiques': {'pas du tout': 0,\n",
       "   'un peu': 1,\n",
       "   'toujours': 2},\n",
       "  'Je travaille pour une entreprise qui correspond à mes valeurs': {'pas du tout': 0,\n",
       "   'un peu': 1,\n",
       "   'toujours': 2},\n",
       "  'Je fais du télétravail plus régulièrement': {'pas du tout': 0,\n",
       "   'un peu': 1,\n",
       "   'toujours': 2}},\n",
       " 'questions_transport': {'je favorise d autre alternative à lavion': {'pas du tout': 0,\n",
       "   'un peu': 1,\n",
       "   'toujours': 2},\n",
       "  'je vais du convoiturages ou transports en communs au lieu de prendre ma voiture': {'pas du tout': 0,\n",
       "   'un peu': 1,\n",
       "   'toujours': 2},\n",
       "  'J’adopte l’éco-conduite': {'pas du tout': 0, 'un peu': 1, 'toujours': 2}}}"
      ]
     },
     "execution_count": 178,
     "metadata": {},
     "output_type": "execute_result"
    }
   ],
   "source": [
    "questions"
   ]
  },
  {
   "cell_type": "code",
   "execution_count": 179,
   "metadata": {},
   "outputs": [
    {
     "ename": "ModuleNotFoundError",
     "evalue": "No module named 'dash'",
     "output_type": "error",
     "traceback": [
      "\u001b[0;31m---------------------------------------------------------------------------\u001b[0m",
      "\u001b[0;31mModuleNotFoundError\u001b[0m                       Traceback (most recent call last)",
      "\u001b[0;32m<ipython-input-179-8635390e5d03>\u001b[0m in \u001b[0;36m<module>\u001b[0;34m\u001b[0m\n\u001b[0;32m----> 1\u001b[0;31m \u001b[0;32mimport\u001b[0m \u001b[0mdash\u001b[0m\u001b[0;34m\u001b[0m\u001b[0;34m\u001b[0m\u001b[0m\n\u001b[0m\u001b[1;32m      2\u001b[0m \u001b[0;32mimport\u001b[0m \u001b[0mdash_html_components\u001b[0m \u001b[0;32mas\u001b[0m \u001b[0mhtml\u001b[0m\u001b[0;34m\u001b[0m\u001b[0;34m\u001b[0m\u001b[0m\n",
      "\u001b[0;31mModuleNotFoundError\u001b[0m: No module named 'dash'"
     ]
    }
   ],
   "source": [
    "import dash\n",
    "import dash_html_components as html"
   ]
  },
  {
   "cell_type": "code",
   "execution_count": null,
   "metadata": {},
   "outputs": [],
   "source": []
  }
 ],
 "metadata": {
  "kernelspec": {
   "display_name": "Python 3",
   "language": "python",
   "name": "python3"
  },
  "language_info": {
   "codemirror_mode": {
    "name": "ipython",
    "version": 3
   },
   "file_extension": ".py",
   "mimetype": "text/x-python",
   "name": "python",
   "nbconvert_exporter": "python",
   "pygments_lexer": "ipython3",
   "version": "3.7.6"
  }
 },
 "nbformat": 4,
 "nbformat_minor": 4
}
